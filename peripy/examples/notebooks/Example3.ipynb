{
 "cells": [
  {
   "cell_type": "code",
   "execution_count": 1,
   "id": "2626c535",
   "metadata": {},
   "outputs": [],
   "source": [
    "import os\n",
    "import argparse\n",
    "import cProfile\n",
    "from io import StringIO\n",
    "import pathlib\n",
    "\n",
    "from pstats import SortKey, Stats\n",
    "import numpy as np\n",
    "import h5py\n",
    "import matplotlib.pyplot as plt\n",
    "import meshio\n",
    "\n",
    "from peripy import Model\n",
    "from peripy.integrators import VelocityVerletCL\n",
    "from peripy.utilities import write_array\n",
    "from peripy.utilities import read_array as read_model\n"
   ]
  },
  {
   "cell_type": "code",
   "execution_count": 2,
   "id": "ca8248bd",
   "metadata": {},
   "outputs": [],
   "source": [
    "absolute_path = os.path.abspath('')\n",
    "\n",
    "# The .msh file is a point cloud. '175beam3620.msh' contains 3620 particles.\n",
    "mesh_file = absolute_path + '/175beam3620.msh'\n",
    "\n",
    "write_path_model = absolute_path + '/175beam3620_model.h5'\n",
    "write_path_solutions = absolute_path\n"
   ]
  },
  {
   "cell_type": "markdown",
   "id": "ec50d12b",
   "metadata": {},
   "source": [
    "## Plot mesh"
   ]
  },
  {
   "cell_type": "code",
   "execution_count": 3,
   "id": "4aa232bc",
   "metadata": {},
   "outputs": [
    {
     "data": {
      "text/plain": [
       "(-0.0034999999999999988, 0.1835, -0.013000000000000001, 0.053000000000000005)"
      ]
     },
     "execution_count": 3,
     "metadata": {},
     "output_type": "execute_result"
    },
    {
     "data": {
      "image/png": "[encoded data removed]",
      "text/plain": [
       "<Figure size 432x288 with 1 Axes>"
      ]
     },
     "metadata": {
      "needs_background": "light"
     },
     "output_type": "display_data"
    }
   ],
   "source": [
    "mesh = meshio.read(mesh_file)\n",
    "# Get coordinates, encoded as mesh points\n",
    "coords = np.array(mesh.points, dtype=np.float64)\n",
    "plt.scatter(coords[:, 0], coords[:, 2], s=10)\n",
    "plt.axis('scaled')\n"
   ]
  },
  {
   "cell_type": "markdown",
   "id": "eb6deda6",
   "metadata": {},
   "source": [
    "## Define functions"
   ]
  },
  {
   "cell_type": "code",
   "execution_count": 17,
   "id": "f6de0390",
   "metadata": {},
   "outputs": [],
   "source": [
    "def smooth_step_data(\n",
    "        first_step, steps, start_value, final_value):\n",
    "    \"\"\"\n",
    "    Apply a smooth 5th order polynomial as the displacement-time function for\n",
    "    the simulation.\n",
    "\n",
    "    :arg int start_time_step: The time step that the simulation starts from.\n",
    "    :arg int steps: The number of steps in the simulation.\n",
    "    :arg float start_value: The starting value of the displacement.\n",
    "    :arg float final_value: The final value of the displacement.\n",
    "    \"\"\"\n",
    "    alpha = np.zeros(first_step + steps)\n",
    "    for current_time_step in range(first_step, first_step + steps):\n",
    "        xi = (current_time_step - first_step) / steps\n",
    "        alpha[current_time_step] = (start_value + (\n",
    "            final_value - start_value) * xi**3 * (10 - 15 * xi + 6 * xi**2))\n",
    "    return alpha\n"
   ]
  },
  {
   "cell_type": "code",
   "execution_count": 5,
   "id": "9101c634",
   "metadata": {},
   "outputs": [],
   "source": [
    "def is_tip(x):\n",
    "    \"\"\"\n",
    "    Return a boolean list of tip types for each cartesian direction.\n",
    "\n",
    "    Returns a boolean list, whose elements are a strings when the particle\n",
    "    resides on a 'tip' to be measured for some displacement, velocity,\n",
    "    acceleration, force or body_force in that cartesian direction. The value\n",
    "    of the element of the list can be a string or an int, which is a flag for\n",
    "    the tip type that the particle resides on. If a particle resides on more\n",
    "    than one tip, then any of the list elements can be a tuple of tip types.\n",
    "\n",
    "    :arg x: Particle coordinate array of size (3,).\n",
    "    :type x: :class:`numpy.ndarray`\n",
    "\n",
    "    :returns: A (3,) list of tip types.\n",
    "    :rtype: List of (tuples of) None or string.\n",
    "    \"\"\"\n",
    "    # Particle does not live on tip\n",
    "    tip = [None, None, None]\n",
    "    # Particle does live on a tip to me measured, in the centre of the beam\n",
    "    if (x[0] > 0.0875 - 5.0e-3) and (x[0] < 0.0875 + 5.0e-3):\n",
    "        if (x[2] > 0.025 - 5.0e-3) and (x[2] < 0.025 + 5.0e-3):\n",
    "            # Measurements are made in the z direction\n",
    "            tip[2] = 'deflection'\n",
    "    # Measure the force applied at the boundaries, in the z direction\n",
    "    if x[0] == 0.025 and x[2] == -0.01:\n",
    "        tip[2] = 'force'\n",
    "    if x[0] == 0.155 and x[2] == -0.01:\n",
    "        tip[2] = 'force'\n",
    "    # Measurement of the \"crack mouth opening displacement\" (CMOD)\n",
    "    if x[0] == 0.125 and x[1] == 0.005 and x[2] == 0.005:\n",
    "        tip[0] = 'CMOD_right'\n",
    "    if x[0] == 0.055 and x[1] == 0.005 and x[2] == 0.005:\n",
    "        tip[0] = 'CMOD_left'\n",
    "    return tip\n"
   ]
  },
  {
   "cell_type": "code",
   "execution_count": 6,
   "id": "ee000f59",
   "metadata": {},
   "outputs": [],
   "source": [
    "def is_density(x):\n",
    "    \"\"\"\n",
    "    Return the density of the particle.\n",
    "\n",
    "    :arg x: Particle coordinate array of size (3,).\n",
    "    :type x: :class:`numpy.ndarray`\n",
    "\n",
    "    :returns: density of concrete in [kg/m^3]\n",
    "    :rtype: float\n",
    "    \"\"\"\n",
    "    return 2346.0\n"
   ]
  },
  {
   "cell_type": "code",
   "execution_count": 7,
   "id": "852a482f",
   "metadata": {},
   "outputs": [],
   "source": [
    "def is_displacement_boundary(x):\n",
    "    \"\"\"\n",
    "    Return a boolean list of displacement boundarys for each direction.\n",
    "\n",
    "    Returns a (3,) boolean list, whose elements are:\n",
    "        None where there is no boundary condition;\n",
    "        -1 where the boundary is displacement loaded in negative direction;\n",
    "        1 where the boundary is displacement loaded in positive direction;\n",
    "        0 where the boundary is clamped;\n",
    "\n",
    "    :arg x: Particle coordinate array of size (3,).\n",
    "    :type x: :class:`numpy.ndarray`\n",
    "    \"\"\"\n",
    "    # Particle does not live on a boundary\n",
    "    bnd = [None, None, None]\n",
    "    # Displacement controlled particles\n",
    "    if x[0] == 0.085 and x[2] == 0.05:\n",
    "        bnd[2] = -1\n",
    "    if x[0] == 0.09 and x[2] == 0.05:\n",
    "        bnd[2] = -1\n",
    "    if x[0] == 0.095 and x[2] == 0.05:\n",
    "        bnd[2] = -1\n",
    "    # Clamped particles\n",
    "    if (x[0] > 0.025 - 5e-3) and (x[0] < 0.025 + 5e-3) and (x[2] < -0.005):\n",
    "        bnd[2] = 0\n",
    "        bnd[1] = 0\n",
    "    if (x[0] > 0.155 - 5e-3) and (x[0] < 0.155 + 5e-3) and (x[2] < -0.005):\n",
    "        bnd[2] = 0\n",
    "        bnd[1] = 0\n",
    "    return bnd\n"
   ]
  },
  {
   "cell_type": "markdown",
   "id": "9ed919b7",
   "metadata": {},
   "source": [
    "## Constants"
   ]
  },
  {
   "cell_type": "code",
   "execution_count": 8,
   "id": "a23b98b6",
   "metadata": {},
   "outputs": [],
   "source": [
    "# Average one-dimensional grid separation between particles along an axis\n",
    "dx = 5.0e-3\n",
    "# Following convention, the horizon distance is taken as just over 3\n",
    "# times the grid separation between particles\n",
    "horizon = dx * np.pi\n",
    "# Values of the particular trilinear constitutive model parameters\n",
    "s_0 = 1.05e-4\n",
    "s_1 = 6.90e-4\n",
    "s_c = 5.56e-3\n",
    "beta = 0.25\n",
    "c = 2.32e18\n",
    "c_1 = (beta * c * s_0 - c * s_0) / (s_1 - s_0)\n",
    "c_2 = (- beta * c * s_0) / (s_c - s_1)\n",
    "# Critical stretch for the trilinear constitutive model\n",
    "critical_stretch = [np.float64(s_0), np.float64(s_1), np.float64(s_c)]\n",
    "# Bond stiffness for the trilinear constitutive model\n",
    "bond_stiffness = [np.float64(c), np.float64(c_1), np.float64(c_2)]\n",
    "# Setting the dynamic relaxation damping constant to a critical value\n",
    "# will help the system to converge to the quasi-static steady-state.\n",
    "damping = 2.5e6\n",
    "# Stable time step. Try increasing or decreasing it.\n",
    "dt = 1.3e-6\n"
   ]
  },
  {
   "cell_type": "markdown",
   "id": "679e6ec9",
   "metadata": {},
   "source": [
    "## Boundary conditions"
   ]
  },
  {
   "cell_type": "code",
   "execution_count": 9,
   "id": "c3f5400a",
   "metadata": {},
   "outputs": [],
   "source": [
    "# The displacement boundary condition magnitudes increase with a 5th order\n",
    "# polynomial so that the acceleration at the start and end of the\n",
    "# simulation is zero. The displacement of 0.2mm is applied over\n",
    "# 100,000 time-steps.\n",
    "steps = 100000\n",
    "applied_displacement = 2e-4\n",
    "displacement_bc_array = smooth_step_data(0, steps, 0, applied_displacement)\n"
   ]
  },
  {
   "cell_type": "markdown",
   "id": "1fbc3d2d",
   "metadata": {},
   "source": [
    "## Solver (integrator)"
   ]
  },
  {
   "cell_type": "code",
   "execution_count": 10,
   "id": "87c455d7",
   "metadata": {},
   "outputs": [
    {
     "name": "stdout",
     "output_type": "stream",
     "text": [
      "Device is AMD Radeon Pro 5500M Compute EngineGPU from AMD with a max of 24 compute units, \n",
      "a max of 256 work-items per work-group, \n",
      "a max work item dimensions of 3, \n",
      "a max work item sizes of [256, 256, 256],\n",
      "and device local memory size is 65536 bytes. \n"
     ]
    }
   ],
   "source": [
    "integrator = VelocityVerletCL(dt=dt, damping=damping)\n"
   ]
  },
  {
   "cell_type": "markdown",
   "id": "03256250",
   "metadata": {},
   "source": [
    "## Build model"
   ]
  },
  {
   "cell_type": "code",
   "execution_count": 11,
   "id": "1db2996c",
   "metadata": {},
   "outputs": [
    {
     "name": "stderr",
     "output_type": "stream",
     "text": [
      "/Users/mark/Documents/Fellowship/2_Code/PeriPy/peripy/model.py:516: UserWarning: KeyError: 'tetra', setting Model.mesh_connectivity=False and in meshless mode: output `mesh' will not be connected, but it will be a point cloud.\n",
      "  warnings.warn(\n"
     ]
    }
   ],
   "source": [
    "model = Model(mesh_file,\n",
    "              integrator=integrator,\n",
    "              horizon=horizon,\n",
    "              critical_stretch=critical_stretch,\n",
    "              bond_stiffness=bond_stiffness,\n",
    "              dimensions=3,\n",
    "              volume_total=0.0004525,  # Total volume of the concrete beam\n",
    "              is_density=is_density,\n",
    "              is_displacement_boundary=is_displacement_boundary,\n",
    "              is_tip=is_tip,\n",
    "              write_path=write_path_model)\n"
   ]
  },
  {
   "cell_type": "markdown",
   "id": "69a70e66",
   "metadata": {},
   "source": [
    "## Visualise the constitutive model"
   ]
  },
  {
   "cell_type": "code",
   "execution_count": 16,
   "id": "45897ab0",
   "metadata": {},
   "outputs": [
    {
     "data": {
      "text/plain": [
       "Text(0.5, 1.0, 'Trilinear constitutive model')"
      ]
     },
     "execution_count": 16,
     "metadata": {},
     "output_type": "execute_result"
    },
    {
     "data": {
      "image/png": "[encoded data removed]",
      "text/plain": [
       "<Figure size 432x288 with 1 Axes>"
      ]
     },
     "metadata": {
      "needs_background": "light"
     },
     "output_type": "display_data"
    }
   ],
   "source": [
    "# Visualise the particular constitutive model being used\n",
    "bond_stiffness, critical_stretch, plus_cs, *_ = model._set_damage_model(\n",
    "    bond_stiffness, critical_stretch)\n",
    "plt.plot(\n",
    "    [0, critical_stretch[0]],\n",
    "    [0, critical_stretch[0] * bond_stiffness[0] + plus_cs[0]],\n",
    "    color='k')\n",
    "plt.plot(\n",
    "    [critical_stretch[0], critical_stretch[1]],\n",
    "    [critical_stretch[0] * bond_stiffness[0],\n",
    "        critical_stretch[1] * bond_stiffness[1] + plus_cs[1]],\n",
    "    color='k')\n",
    "plt.plot(\n",
    "    [critical_stretch[1], critical_stretch[2]],\n",
    "    [critical_stretch[1] * bond_stiffness[1] + plus_cs[1],\n",
    "        critical_stretch[2] * bond_stiffness[2] + plus_cs[2]],\n",
    "    color='k')\n",
    "plt.xlabel('Bond stretch (dimensionless)')\n",
    "plt.ylabel('Bond force [N/m^6]')\n",
    "plt.title('Trilinear constitutive model')\n"
   ]
  },
  {
   "cell_type": "markdown",
   "id": "9c348d02",
   "metadata": {},
   "source": [
    "## Run the simulation"
   ]
  },
  {
   "cell_type": "code",
   "execution_count": 13,
   "id": "c8299893",
   "metadata": {},
   "outputs": [
    {
     "name": "stderr",
     "output_type": "stream",
     "text": [
      "Simulation Progress: 100%|██████████| 100000/100000 [01:15<00:00, 1319.43steps/s]\n"
     ]
    }
   ],
   "source": [
    "(u, damage, connectivity, f, ud, data) = model.simulate(\n",
    "    bond_stiffness=bond_stiffness,\n",
    "    critical_stretch=critical_stretch,\n",
    "    steps=steps,\n",
    "    displacement_bc_magnitudes=displacement_bc_array,\n",
    "    write_mesh=5000,  # write to mesh every 5000 time steps\n",
    "    write_data=100)  # write to data every 100 time steps\n"
   ]
  },
  {
   "cell_type": "markdown",
   "id": "b3961ee6",
   "metadata": {},
   "source": [
    "## Write the numerical load-CMOD data to disk"
   ]
  },
  {
   "cell_type": "code",
   "execution_count": 14,
   "id": "f2a85fa3",
   "metadata": {},
   "outputs": [],
   "source": [
    "force = np.array(data['force']['body_force']) / 1000\n",
    "left_displacement = 1000. * np.array(data['CMOD_left']['displacement'])\n",
    "right_displacement = 1000. * np.array(data['CMOD_right']['displacement'])\n",
    "CMOD = np.subtract(right_displacement, left_displacement)\n",
    "\n",
    "# Write load-CMOD data to disk\n",
    "try:\n",
    "    write_array(write_path_solutions + \"/data.h5\", \"force\", np.array(force))\n",
    "    write_array(write_path_solutions + \"/data.h5\", \"CMOD\", np.array(CMOD))\n",
    "except OSError:  # data.h5 already exists\n",
    "    os.remove(write_path_solutions + \"/data.h5\")\n",
    "    write_array(write_path_solutions + \"/data.h5\", \"force\", np.array(force))\n",
    "    write_array(write_path_solutions + \"/data.h5\", \"CMOD\", np.array(CMOD))\n"
   ]
  },
  {
   "cell_type": "markdown",
   "id": "1aa107e4",
   "metadata": {},
   "source": [
    "## Plot the experimental load-CMOD data, verification data, and numerical output"
   ]
  },
  {
   "cell_type": "code",
   "execution_count": 15,
   "id": "6d0385a0",
   "metadata": {},
   "outputs": [
    {
     "data": {
      "text/plain": [
       "<matplotlib.legend.Legend at 0x7fba80ca67c0>"
      ]
     },
     "execution_count": 15,
     "metadata": {},
     "output_type": "execute_result"
    },
    {
     "data": {
      "image/png": "[encoded data removed]",
      "text/plain": [
       "<Figure size 432x288 with 1 Axes>"
      ]
     },
     "metadata": {
      "needs_background": "light"
     },
     "output_type": "display_data"
    }
   ],
   "source": [
    "# Plot the experimental data\n",
    "exp_data_path = absolute_path + \"/experimental_data.h5\"\n",
    "exp_data = h5py.File(exp_data_path, 'r')\n",
    "exp_load_CMOD = exp_data['load_CMOD']\n",
    "exp_CMOD = exp_load_CMOD[0, 0:20000]\n",
    "exp_load_mean = exp_load_CMOD[1, 0:20000]\n",
    "exp_load_min = exp_load_CMOD[2, 0:20000]\n",
    "exp_load_max = exp_load_CMOD[3, 0:20000]\n",
    "plt.plot(exp_CMOD, exp_load_mean, color=(0.8, 0.8, 0.8), label='Experimental')\n",
    "plt.fill_between(exp_CMOD, exp_load_min, exp_load_max, color=(0.8, 0.8, 0.8))\n",
    "\n",
    "# Plot the verification data\n",
    "ver_data_path = absolute_path + \"/verification_data.h5\"\n",
    "ver_data = h5py.File(ver_data_path, 'r')\n",
    "ver_load_CMOD = ver_data['load_CMOD']\n",
    "ver_load = ver_load_CMOD[0, 0:499] / 1000\n",
    "ver_CMOD = ver_load_CMOD[1, 0:499]\n",
    "plt.plot(ver_CMOD, ver_load, 'tab:orange', label='Verification data')\n",
    "\n",
    "# Plot the numerical data\n",
    "force = read_model(absolute_path + \"/data.h5\", \"force\")\n",
    "CMOD = read_model(absolute_path + \"/data.h5\", \"CMOD\")\n",
    "plt.plot(CMOD, -force, label='Numerical')\n",
    "\n",
    "# Format the figure\n",
    "plt.xlabel('CMOD [mm]')\n",
    "plt.ylabel('Force [kN]')\n",
    "plt.grid(True)\n",
    "axes = plt.gca()\n",
    "axes.set_xlim([0, .3])\n",
    "axes.set_ylim([0, 5.5])\n",
    "axes.tick_params(direction='in')\n",
    "plt.legend()\n"
   ]
  },
  {
   "cell_type": "markdown",
   "id": "803a4b68",
   "metadata": {},
   "source": [
    "## Visualise the damage"
   ]
  },
  {
   "cell_type": "code",
   "execution_count": null,
   "id": "6df74ae6",
   "metadata": {},
   "outputs": [],
   "source": [
    "# Use PyVista"
   ]
  }
 ],
 "metadata": {
  "interpreter": {
   "hash": "fbc3cb0d4dfed33d2c66f19301a171fd3390a6f696f812f695296cfe39cc6b55"
  },
  "kernelspec": {
   "display_name": "Python [conda env:peripy]",
   "language": "python",
   "name": "python3"
  },
  "language_info": {
   "codemirror_mode": {
    "name": "ipython",
    "version": 3
   },
   "file_extension": ".py",
   "mimetype": "text/x-python",
   "name": "python",
   "nbconvert_exporter": "python",
   "pygments_lexer": "ipython3",
   "version": "3.9.6"
  }
 },
 "nbformat": 4,
 "nbformat_minor": 5
}
